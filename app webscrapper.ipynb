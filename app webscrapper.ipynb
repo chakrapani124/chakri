{
 "cells": [
  {
   "cell_type": "code",
   "execution_count": 1,
   "id": "55d37452",
   "metadata": {},
   "outputs": [
    {
     "name": "stdout",
     "output_type": "stream",
     "text": [
      "Requirement already satisfied: app_store_scraper in c:\\users\\chakr\\anaconda3\\lib\\site-packages (0.3.5)\n",
      "Requirement already satisfied: requests==2.23.0 in c:\\users\\chakr\\anaconda3\\lib\\site-packages (from app_store_scraper) (2.23.0)\n",
      "Requirement already satisfied: chardet<4,>=3.0.2 in c:\\users\\chakr\\anaconda3\\lib\\site-packages (from requests==2.23.0->app_store_scraper) (3.0.4)\n",
      "Requirement already satisfied: idna<3,>=2.5 in c:\\users\\chakr\\anaconda3\\lib\\site-packages (from requests==2.23.0->app_store_scraper) (2.10)\n",
      "Requirement already satisfied: urllib3!=1.25.0,!=1.25.1,<1.26,>=1.21.1 in c:\\users\\chakr\\anaconda3\\lib\\site-packages (from requests==2.23.0->app_store_scraper) (1.25.11)\n",
      "Requirement already satisfied: certifi>=2017.4.17 in c:\\users\\chakr\\anaconda3\\lib\\site-packages (from requests==2.23.0->app_store_scraper) (2023.7.22)\n",
      "Requirement already satisfied: pandas in c:\\users\\chakr\\anaconda3\\lib\\site-packages (1.5.3)\n",
      "Requirement already satisfied: python-dateutil>=2.8.1 in c:\\users\\chakr\\anaconda3\\lib\\site-packages (from pandas) (2.8.2)\n",
      "Requirement already satisfied: pytz>=2020.1 in c:\\users\\chakr\\anaconda3\\lib\\site-packages (from pandas) (2022.7)\n",
      "Requirement already satisfied: numpy>=1.21.0 in c:\\users\\chakr\\anaconda3\\lib\\site-packages (from pandas) (1.24.3)\n",
      "Requirement already satisfied: six>=1.5 in c:\\users\\chakr\\anaconda3\\lib\\site-packages (from python-dateutil>=2.8.1->pandas) (1.16.0)\n"
     ]
    }
   ],
   "source": [
    "!pip3 install app_store_scraper\n",
    "!pip install pandas\n"
   ]
  },
  {
   "cell_type": "code",
   "execution_count": 2,
   "id": "cc425198",
   "metadata": {},
   "outputs": [],
   "source": [
    "import pandas as pd\n",
    "import numpy as np\n",
    "import json"
   ]
  },
  {
   "cell_type": "code",
   "execution_count": 5,
   "id": "07950127",
   "metadata": {},
   "outputs": [
    {
     "name": "stderr",
     "output_type": "stream",
     "text": [
      "2023-09-09 10:53:38,796 [INFO] Base - Initialised: AppStore('us', 'zomato-food-restaurants', 434613896)\n",
      "2023-09-09 10:53:38,796 [INFO] Base - Ready to fetch reviews from: https://apps.apple.com/us/app/zomato-food-restaurants/id434613896\n",
      "2023-09-09 10:53:43,890 [INFO] Base - [id:434613896] Fetched 640 reviews (640 fetched in total)\n",
      "2023-09-09 10:53:49,090 [INFO] Base - [id:434613896] Fetched 1040 reviews (1040 fetched in total)\n",
      "2023-09-09 10:53:55,008 [INFO] Base - [id:434613896] Fetched 1260 reviews (1260 fetched in total)\n",
      "2023-09-09 10:54:00,883 [INFO] Base - [id:434613896] Fetched 1460 reviews (1460 fetched in total)\n",
      "2023-09-09 10:54:07,244 [INFO] Base - [id:434613896] Fetched 1800 reviews (1800 fetched in total)\n",
      "2023-09-09 10:54:12,516 [INFO] Base - [id:434613896] Fetched 2120 reviews (2120 fetched in total)\n",
      "2023-09-09 10:54:18,333 [INFO] Base - [id:434613896] Fetched 2360 reviews (2360 fetched in total)\n",
      "2023-09-09 10:54:23,509 [INFO] Base - [id:434613896] Fetched 2780 reviews (2780 fetched in total)\n",
      "2023-09-09 10:54:28,668 [INFO] Base - [id:434613896] Fetched 3400 reviews (3400 fetched in total)\n",
      "2023-09-09 10:54:34,042 [INFO] Base - [id:434613896] Fetched 3860 reviews (3860 fetched in total)\n",
      "2023-09-09 10:54:39,623 [INFO] Base - [id:434613896] Fetched 4300 reviews (4300 fetched in total)\n",
      "2023-09-09 10:54:45,408 [INFO] Base - [id:434613896] Fetched 4680 reviews (4680 fetched in total)\n",
      "2023-09-09 10:54:51,024 [INFO] Base - [id:434613896] Fetched 5120 reviews (5120 fetched in total)\n",
      "2023-09-09 10:54:56,903 [INFO] Base - [id:434613896] Fetched 5340 reviews (5340 fetched in total)\n",
      "2023-09-09 10:55:02,142 [INFO] Base - [id:434613896] Fetched 5780 reviews (5780 fetched in total)\n",
      "2023-09-09 10:55:07,633 [INFO] Base - [id:434613896] Fetched 6160 reviews (6160 fetched in total)\n",
      "2023-09-09 10:55:13,302 [INFO] Base - [id:434613896] Fetched 6740 reviews (6740 fetched in total)\n",
      "2023-09-09 10:55:19,005 [INFO] Base - [id:434613896] Fetched 7020 reviews (7020 fetched in total)\n",
      "2023-09-09 10:55:24,660 [INFO] Base - [id:434613896] Fetched 7520 reviews (7520 fetched in total)\n",
      "2023-09-09 10:55:30,001 [INFO] Base - [id:434613896] Fetched 7960 reviews (7960 fetched in total)\n",
      "2023-09-09 10:55:35,695 [INFO] Base - [id:434613896] Fetched 8160 reviews (8160 fetched in total)\n",
      "2023-09-09 10:55:41,037 [INFO] Base - [id:434613896] Fetched 8520 reviews (8520 fetched in total)\n",
      "2023-09-09 10:55:46,431 [INFO] Base - [id:434613896] Fetched 8760 reviews (8760 fetched in total)\n",
      "2023-09-09 10:55:51,967 [INFO] Base - [id:434613896] Fetched 9080 reviews (9080 fetched in total)\n",
      "2023-09-09 10:55:55,993 [INFO] Base - [id:434613896] Fetched 9550 reviews (9550 fetched in total)\n"
     ]
    }
   ],
   "source": [
    "from app_store_scraper import AppStore\n",
    "zomato = AppStore(country='us', app_name='zomato-food-restaurants', app_id = '434613896')\n",
    "zomato.review(how_many=50000)\n"
   ]
  },
  {
   "cell_type": "code",
   "execution_count": null,
   "id": "021d7e76",
   "metadata": {},
   "outputs": [],
   "source": []
  }
 ],
 "metadata": {
  "kernelspec": {
   "display_name": "Python 3 (ipykernel)",
   "language": "python",
   "name": "python3"
  },
  "language_info": {
   "codemirror_mode": {
    "name": "ipython",
    "version": 3
   },
   "file_extension": ".py",
   "mimetype": "text/x-python",
   "name": "python",
   "nbconvert_exporter": "python",
   "pygments_lexer": "ipython3",
   "version": "3.11.4"
  }
 },
 "nbformat": 4,
 "nbformat_minor": 5
}
